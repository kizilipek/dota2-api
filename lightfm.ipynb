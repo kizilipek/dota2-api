{
 "cells": [
  {
   "cell_type": "markdown",
   "id": "00a3f004",
   "metadata": {},
   "source": [
    "This notebook is used to make recommendations by using lightfm module"
   ]
  },
  {
   "cell_type": "markdown",
   "id": "57126bb7",
   "metadata": {},
   "source": [
    "import packages "
   ]
  },
  {
   "cell_type": "code",
   "execution_count": 63,
   "id": "e6f0498f",
   "metadata": {},
   "outputs": [],
   "source": [
    "import numpy as np \n",
    "import pandas as pd \n",
    "from scipy import sparse\n",
    "import random\n",
    "import lightfm\n",
    "from lightfm import LightFM, cross_validation\n",
    "from lightfm.evaluation import precision_at_k, auc_score\n",
    "from sklearn.metrics.pairwise import cosine_similarity\n",
    "import warnings\n",
    "warnings.simplefilter(action='ignore', category=FutureWarning)\n",
    "import json \n",
    "import os\n",
    "import pickle\n",
    "import redis\n",
    "from utils import *\n",
    "import pyarrow as pa "
   ]
  },
  {
   "cell_type": "markdown",
   "id": "6c24931e",
   "metadata": {},
   "source": [
    "i loaded the data from the api and saved to seperate folder "
   ]
  },
  {
   "cell_type": "code",
   "execution_count": 3,
   "id": "919229cc",
   "metadata": {},
   "outputs": [],
   "source": [
    "input_path = \"download/heroes\"\n",
    "df = pd.DataFrame()\n",
    "for file in os.listdir(input_path):\n",
    "    if file.endswith('.json'):\n",
    "        p = os.path.join(input_path, file)\n",
    "        f = open(p)\n",
    "        tmp = json.load(f)\n",
    "        tmp_df = pd.DataFrame(tmp)\n",
    "        if not tmp_df.empty:\n",
    "            tmp_df.loc[:, 'hero_id'] = int(file.split(\"_\")[0])\n",
    "            df = df.append(tmp_df.copy())\n"
   ]
  },
  {
   "cell_type": "code",
   "execution_count": 4,
   "id": "9548ea8c",
   "metadata": {},
   "outputs": [
    {
     "name": "stdout",
     "output_type": "stream",
     "text": [
      "data shape: (12300, 13)\n"
     ]
    }
   ],
   "source": [
    "print(f\"data shape: {df.shape}\")"
   ]
  },
  {
   "cell_type": "markdown",
   "id": "f53e2f3f",
   "metadata": {},
   "source": [
    "#### Data preproccessing"
   ]
  },
  {
   "cell_type": "code",
   "execution_count": 5,
   "id": "1bb2b449",
   "metadata": {
    "scrolled": true
   },
   "outputs": [
    {
     "data": {
      "text/html": [
       "<div>\n",
       "<style scoped>\n",
       "    .dataframe tbody tr th:only-of-type {\n",
       "        vertical-align: middle;\n",
       "    }\n",
       "\n",
       "    .dataframe tbody tr th {\n",
       "        vertical-align: top;\n",
       "    }\n",
       "\n",
       "    .dataframe thead th {\n",
       "        text-align: right;\n",
       "    }\n",
       "</style>\n",
       "<table border=\"1\" class=\"dataframe\">\n",
       "  <thead>\n",
       "    <tr style=\"text-align: right;\">\n",
       "      <th></th>\n",
       "      <th>id</th>\n",
       "      <th>name</th>\n",
       "      <th>localized_name</th>\n",
       "      <th>primary_attr</th>\n",
       "      <th>attack_type</th>\n",
       "      <th>roles</th>\n",
       "      <th>legs</th>\n",
       "    </tr>\n",
       "  </thead>\n",
       "  <tbody>\n",
       "    <tr>\n",
       "      <th>0</th>\n",
       "      <td>1</td>\n",
       "      <td>npc_dota_hero_antimage</td>\n",
       "      <td>Anti-Mage</td>\n",
       "      <td>agi</td>\n",
       "      <td>Melee</td>\n",
       "      <td>[Carry, Escape, Nuker]</td>\n",
       "      <td>2</td>\n",
       "    </tr>\n",
       "    <tr>\n",
       "      <th>1</th>\n",
       "      <td>2</td>\n",
       "      <td>npc_dota_hero_axe</td>\n",
       "      <td>Axe</td>\n",
       "      <td>str</td>\n",
       "      <td>Melee</td>\n",
       "      <td>[Initiator, Durable, Disabler, Jungler, Carry]</td>\n",
       "      <td>2</td>\n",
       "    </tr>\n",
       "    <tr>\n",
       "      <th>2</th>\n",
       "      <td>3</td>\n",
       "      <td>npc_dota_hero_bane</td>\n",
       "      <td>Bane</td>\n",
       "      <td>int</td>\n",
       "      <td>Ranged</td>\n",
       "      <td>[Support, Disabler, Nuker, Durable]</td>\n",
       "      <td>4</td>\n",
       "    </tr>\n",
       "    <tr>\n",
       "      <th>3</th>\n",
       "      <td>4</td>\n",
       "      <td>npc_dota_hero_bloodseeker</td>\n",
       "      <td>Bloodseeker</td>\n",
       "      <td>agi</td>\n",
       "      <td>Melee</td>\n",
       "      <td>[Carry, Disabler, Jungler, Nuker, Initiator]</td>\n",
       "      <td>2</td>\n",
       "    </tr>\n",
       "    <tr>\n",
       "      <th>4</th>\n",
       "      <td>5</td>\n",
       "      <td>npc_dota_hero_crystal_maiden</td>\n",
       "      <td>Crystal Maiden</td>\n",
       "      <td>int</td>\n",
       "      <td>Ranged</td>\n",
       "      <td>[Support, Disabler, Nuker, Jungler]</td>\n",
       "      <td>2</td>\n",
       "    </tr>\n",
       "    <tr>\n",
       "      <th>...</th>\n",
       "      <td>...</td>\n",
       "      <td>...</td>\n",
       "      <td>...</td>\n",
       "      <td>...</td>\n",
       "      <td>...</td>\n",
       "      <td>...</td>\n",
       "      <td>...</td>\n",
       "    </tr>\n",
       "    <tr>\n",
       "      <th>118</th>\n",
       "      <td>128</td>\n",
       "      <td>npc_dota_hero_snapfire</td>\n",
       "      <td>Snapfire</td>\n",
       "      <td>str</td>\n",
       "      <td>Ranged</td>\n",
       "      <td>[Support, Nuker, Disabler, Escape]</td>\n",
       "      <td>2</td>\n",
       "    </tr>\n",
       "    <tr>\n",
       "      <th>119</th>\n",
       "      <td>129</td>\n",
       "      <td>npc_dota_hero_mars</td>\n",
       "      <td>Mars</td>\n",
       "      <td>str</td>\n",
       "      <td>Melee</td>\n",
       "      <td>[Carry, Initiator, Disabler, Durable]</td>\n",
       "      <td>2</td>\n",
       "    </tr>\n",
       "    <tr>\n",
       "      <th>120</th>\n",
       "      <td>135</td>\n",
       "      <td>npc_dota_hero_dawnbreaker</td>\n",
       "      <td>Dawnbreaker</td>\n",
       "      <td>str</td>\n",
       "      <td>Melee</td>\n",
       "      <td>[Carry, Durable]</td>\n",
       "      <td>2</td>\n",
       "    </tr>\n",
       "    <tr>\n",
       "      <th>121</th>\n",
       "      <td>136</td>\n",
       "      <td>npc_dota_hero_marci</td>\n",
       "      <td>Marci</td>\n",
       "      <td>str</td>\n",
       "      <td>Melee</td>\n",
       "      <td>[Support, Carry, Initiator, Disabler, Escape]</td>\n",
       "      <td>2</td>\n",
       "    </tr>\n",
       "    <tr>\n",
       "      <th>122</th>\n",
       "      <td>137</td>\n",
       "      <td>npc_dota_hero_primal_beast</td>\n",
       "      <td>Primal Beast</td>\n",
       "      <td>str</td>\n",
       "      <td>Melee</td>\n",
       "      <td>[Initiator, Durable, Disabler]</td>\n",
       "      <td>2</td>\n",
       "    </tr>\n",
       "  </tbody>\n",
       "</table>\n",
       "<p>123 rows × 7 columns</p>\n",
       "</div>"
      ],
      "text/plain": [
       "      id                          name  localized_name primary_attr  \\\n",
       "0      1        npc_dota_hero_antimage       Anti-Mage          agi   \n",
       "1      2             npc_dota_hero_axe             Axe          str   \n",
       "2      3            npc_dota_hero_bane            Bane          int   \n",
       "3      4     npc_dota_hero_bloodseeker     Bloodseeker          agi   \n",
       "4      5  npc_dota_hero_crystal_maiden  Crystal Maiden          int   \n",
       "..   ...                           ...             ...          ...   \n",
       "118  128        npc_dota_hero_snapfire        Snapfire          str   \n",
       "119  129            npc_dota_hero_mars            Mars          str   \n",
       "120  135     npc_dota_hero_dawnbreaker     Dawnbreaker          str   \n",
       "121  136           npc_dota_hero_marci           Marci          str   \n",
       "122  137    npc_dota_hero_primal_beast    Primal Beast          str   \n",
       "\n",
       "    attack_type                                           roles  legs  \n",
       "0         Melee                          [Carry, Escape, Nuker]     2  \n",
       "1         Melee  [Initiator, Durable, Disabler, Jungler, Carry]     2  \n",
       "2        Ranged             [Support, Disabler, Nuker, Durable]     4  \n",
       "3         Melee    [Carry, Disabler, Jungler, Nuker, Initiator]     2  \n",
       "4        Ranged             [Support, Disabler, Nuker, Jungler]     2  \n",
       "..          ...                                             ...   ...  \n",
       "118      Ranged              [Support, Nuker, Disabler, Escape]     2  \n",
       "119       Melee           [Carry, Initiator, Disabler, Durable]     2  \n",
       "120       Melee                                [Carry, Durable]     2  \n",
       "121       Melee   [Support, Carry, Initiator, Disabler, Escape]     2  \n",
       "122       Melee                  [Initiator, Durable, Disabler]     2  \n",
       "\n",
       "[123 rows x 7 columns]"
      ]
     },
     "execution_count": 5,
     "metadata": {},
     "output_type": "execute_result"
    }
   ],
   "source": [
    "api = OpenDotaAPI()\n",
    "heroes  = api._call(\" https://api.opendota.com/api/heroes\", parameters=None)\n",
    "heroes_df = pd.DataFrame(heroes)\n",
    "heroes_df"
   ]
  },
  {
   "cell_type": "code",
   "execution_count": 6,
   "id": "6d373dd9",
   "metadata": {},
   "outputs": [
    {
     "data": {
      "text/html": [
       "<div>\n",
       "<style scoped>\n",
       "    .dataframe tbody tr th:only-of-type {\n",
       "        vertical-align: middle;\n",
       "    }\n",
       "\n",
       "    .dataframe tbody tr th {\n",
       "        vertical-align: top;\n",
       "    }\n",
       "\n",
       "    .dataframe thead th {\n",
       "        text-align: right;\n",
       "    }\n",
       "</style>\n",
       "<table border=\"1\" class=\"dataframe\">\n",
       "  <thead>\n",
       "    <tr style=\"text-align: right;\">\n",
       "      <th></th>\n",
       "      <th>account_id</th>\n",
       "      <th>hero_id</th>\n",
       "      <th>freq</th>\n",
       "    </tr>\n",
       "  </thead>\n",
       "  <tbody>\n",
       "    <tr>\n",
       "      <th>2801</th>\n",
       "      <td>1262266956</td>\n",
       "      <td>91</td>\n",
       "      <td>30</td>\n",
       "    </tr>\n",
       "    <tr>\n",
       "      <th>2570</th>\n",
       "      <td>1173255449</td>\n",
       "      <td>8</td>\n",
       "      <td>22</td>\n",
       "    </tr>\n",
       "    <tr>\n",
       "      <th>2695</th>\n",
       "      <td>1228355759</td>\n",
       "      <td>2</td>\n",
       "      <td>20</td>\n",
       "    </tr>\n",
       "    <tr>\n",
       "      <th>2706</th>\n",
       "      <td>1228355759</td>\n",
       "      <td>96</td>\n",
       "      <td>18</td>\n",
       "    </tr>\n",
       "    <tr>\n",
       "      <th>580</th>\n",
       "      <td>131774502</td>\n",
       "      <td>36</td>\n",
       "      <td>18</td>\n",
       "    </tr>\n",
       "  </tbody>\n",
       "</table>\n",
       "</div>"
      ],
      "text/plain": [
       "      account_id  hero_id  freq\n",
       "2801  1262266956       91    30\n",
       "2570  1173255449        8    22\n",
       "2695  1228355759        2    20\n",
       "2706  1228355759       96    18\n",
       "580    131774502       36    18"
      ]
     },
     "execution_count": 6,
     "metadata": {},
     "output_type": "execute_result"
    }
   ],
   "source": [
    "df =df.groupby('hero_id').filter(lambda x: len(x)>=50)\n",
    "df = df[df.groupby('account_id').hero_id.transform('nunique')>=10]\n",
    "\n",
    "df_freq = df.groupby(['account_id', 'hero_id']).agg('size').reset_index().rename(columns={0:'freq'})[['account_id', 'hero_id', 'freq']].sort_values(['freq'], ascending=False)\n",
    "df_freq.head()\n"
   ]
  },
  {
   "cell_type": "code",
   "execution_count": 35,
   "id": "05c5f82b",
   "metadata": {
    "scrolled": true
   },
   "outputs": [
    {
     "data": {
      "text/html": [
       "<div>\n",
       "<style scoped>\n",
       "    .dataframe tbody tr th:only-of-type {\n",
       "        vertical-align: middle;\n",
       "    }\n",
       "\n",
       "    .dataframe tbody tr th {\n",
       "        vertical-align: top;\n",
       "    }\n",
       "\n",
       "    .dataframe thead th {\n",
       "        text-align: right;\n",
       "    }\n",
       "</style>\n",
       "<table border=\"1\" class=\"dataframe\">\n",
       "  <thead>\n",
       "    <tr style=\"text-align: right;\">\n",
       "      <th></th>\n",
       "      <th>hero_index</th>\n",
       "      <th>hero_id</th>\n",
       "      <th>hero_name</th>\n",
       "    </tr>\n",
       "  </thead>\n",
       "  <tbody>\n",
       "    <tr>\n",
       "      <th>0</th>\n",
       "      <td>0</td>\n",
       "      <td>91</td>\n",
       "      <td>Io</td>\n",
       "    </tr>\n",
       "    <tr>\n",
       "      <th>1</th>\n",
       "      <td>1</td>\n",
       "      <td>8</td>\n",
       "      <td>Juggernaut</td>\n",
       "    </tr>\n",
       "    <tr>\n",
       "      <th>2</th>\n",
       "      <td>2</td>\n",
       "      <td>2</td>\n",
       "      <td>Axe</td>\n",
       "    </tr>\n",
       "    <tr>\n",
       "      <th>3</th>\n",
       "      <td>3</td>\n",
       "      <td>96</td>\n",
       "      <td>Centaur Warrunner</td>\n",
       "    </tr>\n",
       "    <tr>\n",
       "      <th>4</th>\n",
       "      <td>4</td>\n",
       "      <td>36</td>\n",
       "      <td>Necrophos</td>\n",
       "    </tr>\n",
       "  </tbody>\n",
       "</table>\n",
       "</div>"
      ],
      "text/plain": [
       "   hero_index  hero_id          hero_name\n",
       "0           0       91                 Io\n",
       "1           1        8         Juggernaut\n",
       "2           2        2                Axe\n",
       "3           3       96  Centaur Warrunner\n",
       "4           4       36          Necrophos"
      ]
     },
     "execution_count": 35,
     "metadata": {},
     "output_type": "execute_result"
    }
   ],
   "source": [
    "df_hero = pd.DataFrame(df_freq[\"hero_id\"].unique())\n",
    "df_hero = df_hero.reset_index()\n",
    "df_hero = df_hero.rename(columns={'index':'hero_index', 0:'hero_id'})\n",
    "df_hero = df_hero.merge(heroes_df[['id', 'localized_name']], left_on='hero_id', right_on='id', how='left').drop(\"id\",axis=1)\n",
    "df_hero = df_hero.rename(columns={'localized_name':'hero_name'})\n",
    "\n",
    "df_hero.head()"
   ]
  },
  {
   "cell_type": "code",
   "execution_count": 8,
   "id": "92456d3e",
   "metadata": {},
   "outputs": [
    {
     "name": "stdout",
     "output_type": "stream",
     "text": [
      "heroes dataframe shape: (123, 3)\n"
     ]
    }
   ],
   "source": [
    "print(f\"heroes dataframe shape: {df_hero.shape}\")"
   ]
  },
  {
   "cell_type": "markdown",
   "id": "81f7087d",
   "metadata": {},
   "source": [
    "#### Define functions"
   ]
  },
  {
   "cell_type": "code",
   "execution_count": 9,
   "id": "3d724586",
   "metadata": {},
   "outputs": [],
   "source": [
    "def create_interactions(df,user_id, item_id, rating_col):\n",
    "    '''\n",
    "    This function is used to define user-item interactions as matrix \n",
    "    Parameters \n",
    "        - df = Pandas DataFrame containing user-item interactions\n",
    "        - user_id = column contains player's identifier\n",
    "        - item_id = column  contains hero's identifier\n",
    "        - rating_col = column contains number of interactions happened between player and hero\n",
    "    Returns \n",
    "        - Pandas dataframe with user-item interactions for recommendation algorithm\n",
    "    '''\n",
    "    interactions = df.groupby([user_id, item_id])[rating_col].sum().unstack().reset_index().fillna(0).set_index(user_id)\n",
    "    return interactions"
   ]
  },
  {
   "cell_type": "code",
   "execution_count": 10,
   "id": "0f1cca68",
   "metadata": {},
   "outputs": [],
   "source": [
    "\n",
    "def get_user_dict(interactions):\n",
    "    '''\n",
    "    This function is used to seperate the user's interactions \n",
    "    Parameters\n",
    "        interactions : user-hero interactions\n",
    "    Returns \n",
    "        user_dict : dictionary of key:player_id and value:player's interaction count \n",
    "    '''\n",
    "    user_id = list(interactions.index)\n",
    "    user_dict = {}\n",
    "    counter = 0 \n",
    "    for i in user_id:\n",
    "        user_dict[i] = counter\n",
    "        counter += 1\n",
    "    return user_dict\n"
   ]
  },
  {
   "cell_type": "code",
   "execution_count": 11,
   "id": "ed3d1290",
   "metadata": {},
   "outputs": [],
   "source": [
    "def get_item_dict(df,id_col,name_col):\n",
    "    '''\n",
    "    This function is used to seperate the hero's interactions\n",
    "    Parameters\n",
    "        - df : a dataframe contains hero's information \n",
    "        - id_col: hero's identifier\n",
    "        - name_col : hero's name\n",
    "    Returns\n",
    "        item_dict : dictionary of key:hero_id and value:hero's interaction count\n",
    "    '''\n",
    "    item_dict ={}\n",
    "    for i in range(df.shape[0]):\n",
    "        item_dict[(df.loc[i,id_col])] = df.loc[i,name_col]\n",
    "    return item_dict"
   ]
  },
  {
   "cell_type": "markdown",
   "id": "7d4cd448",
   "metadata": {},
   "source": [
    "#### Train Model "
   ]
  },
  {
   "cell_type": "code",
   "execution_count": 12,
   "id": "d0008188",
   "metadata": {},
   "outputs": [],
   "source": [
    "def train_LightFM(interactions, n_components=30, loss='warp', k=15, epoch=30,n_jobs = 4):\n",
    "    '''\n",
    "    This function trains the lightfm model for given interactions \n",
    "    Parameters \n",
    "        - interactions : player-hero interactions \n",
    "        - n_components : number of embeddings to define player and hero\n",
    "        - loss : loss function other options are logistic, brp\n",
    "        - epoch : number of epochs \n",
    "        - n_jobs : number of cores \n",
    "    Returns \n",
    "        model: lightfm model\n",
    "    '''\n",
    "    model = LightFM(no_components= n_components, loss=loss,k=k)\n",
    "    model.fit(X,epochs=epoch,num_threads = n_jobs)\n",
    "    return model"
   ]
  },
  {
   "cell_type": "markdown",
   "id": "bf66ebb7",
   "metadata": {},
   "source": [
    "#### Make recommendations"
   ]
  },
  {
   "cell_type": "code",
   "execution_count": 60,
   "id": "3cfecb49",
   "metadata": {},
   "outputs": [],
   "source": [
    "def recommend_by_user(model,interactions, user_id, user_dict, \n",
    "                               item_dict,threshold = 0,nrec_items = 10, show = True):\n",
    "    '''\n",
    "    This function makes hero recommendations for given player \n",
    "    Parameters  \n",
    "        - model :lightfm model\n",
    "        - interactions : player hero interactions \n",
    "        - user_id : player id whom we want to recommend heros \n",
    "        - user_dict : dictionary of key:player_id and value:player's interaction count  \n",
    "        - item_dict : dictionary of key:hero_id and value:hero's interaction count\n",
    "        - threshold : value above which the rating is favorable in new interaction matrix\n",
    "        - nrec_items : number of recommendations \n",
    "    Returns \n",
    "        - returns list of heros that player already played\n",
    "        - returns recommendations \n",
    "    '''\n",
    "    n_users, n_items = interactions.shape\n",
    "    user_x = user_dict[user_id]\n",
    "    scores = pd.Series(model.predict(user_x,np.arange(n_items)))\n",
    "    scores.index = interactions.columns\n",
    "    scores = list(pd.Series(scores.sort_values(ascending=False).index))\n",
    "    \n",
    "    previously_played = list(pd.Series(interactions.loc[user_id,:][interactions.loc[user_id,:] > threshold].index).sort_values(ascending=False))\n",
    "    \n",
    "    scores = [x for x in scores if x not in previously_played]\n",
    "    return_score_list = scores[0:nrec_items]\n",
    "    previously_played = list(pd.Series(previously_played).apply(lambda x: item_dict[x]))\n",
    "    scores = list(pd.Series(return_score_list).apply(lambda x: item_dict[x]))\n",
    "    recommendations = [{\"hero_id\":str(id),\"name\":item_dict[id]} for id in return_score_list]\n",
    "    if show == True:\n",
    "        print(\"Previoulsy played:\")\n",
    "        counter = 1\n",
    "        for i in previously_played:\n",
    "            print(str(counter) + ':' + i)\n",
    "            counter+=1\n",
    "\n",
    "        print(\"\\n Recommended heroes:\")\n",
    "        counter = 1\n",
    "        for i in scores:\n",
    "            print(str(counter) + ':' + i)\n",
    "            counter+=1\n",
    "            \n",
    "    return recommendations\n",
    "\n"
   ]
  },
  {
   "cell_type": "markdown",
   "id": "efd04644",
   "metadata": {},
   "source": [
    "#### Generate data"
   ]
  },
  {
   "cell_type": "code",
   "execution_count": 46,
   "id": "f81107e7",
   "metadata": {
    "scrolled": true
   },
   "outputs": [
    {
     "data": {
      "text/html": [
       "<div>\n",
       "<style scoped>\n",
       "    .dataframe tbody tr th:only-of-type {\n",
       "        vertical-align: middle;\n",
       "    }\n",
       "\n",
       "    .dataframe tbody tr th {\n",
       "        vertical-align: top;\n",
       "    }\n",
       "\n",
       "    .dataframe thead th {\n",
       "        text-align: right;\n",
       "    }\n",
       "</style>\n",
       "<table border=\"1\" class=\"dataframe\">\n",
       "  <thead>\n",
       "    <tr style=\"text-align: right;\">\n",
       "      <th>hero_id</th>\n",
       "      <th>1</th>\n",
       "      <th>2</th>\n",
       "      <th>3</th>\n",
       "      <th>4</th>\n",
       "      <th>5</th>\n",
       "      <th>6</th>\n",
       "      <th>7</th>\n",
       "      <th>8</th>\n",
       "      <th>9</th>\n",
       "      <th>10</th>\n",
       "      <th>...</th>\n",
       "      <th>119</th>\n",
       "      <th>120</th>\n",
       "      <th>121</th>\n",
       "      <th>123</th>\n",
       "      <th>126</th>\n",
       "      <th>128</th>\n",
       "      <th>129</th>\n",
       "      <th>135</th>\n",
       "      <th>136</th>\n",
       "      <th>137</th>\n",
       "    </tr>\n",
       "    <tr>\n",
       "      <th>account_id</th>\n",
       "      <th></th>\n",
       "      <th></th>\n",
       "      <th></th>\n",
       "      <th></th>\n",
       "      <th></th>\n",
       "      <th></th>\n",
       "      <th></th>\n",
       "      <th></th>\n",
       "      <th></th>\n",
       "      <th></th>\n",
       "      <th></th>\n",
       "      <th></th>\n",
       "      <th></th>\n",
       "      <th></th>\n",
       "      <th></th>\n",
       "      <th></th>\n",
       "      <th></th>\n",
       "      <th></th>\n",
       "      <th></th>\n",
       "      <th></th>\n",
       "      <th></th>\n",
       "    </tr>\n",
       "  </thead>\n",
       "  <tbody>\n",
       "    <tr>\n",
       "      <th>27178898</th>\n",
       "      <td>0.0</td>\n",
       "      <td>0.0</td>\n",
       "      <td>0.0</td>\n",
       "      <td>1.0</td>\n",
       "      <td>0.0</td>\n",
       "      <td>0.0</td>\n",
       "      <td>0.0</td>\n",
       "      <td>0.0</td>\n",
       "      <td>0.0</td>\n",
       "      <td>0.0</td>\n",
       "      <td>...</td>\n",
       "      <td>0.0</td>\n",
       "      <td>0.0</td>\n",
       "      <td>0.0</td>\n",
       "      <td>0.0</td>\n",
       "      <td>0.0</td>\n",
       "      <td>0.0</td>\n",
       "      <td>0.0</td>\n",
       "      <td>0.0</td>\n",
       "      <td>0.0</td>\n",
       "      <td>0.0</td>\n",
       "    </tr>\n",
       "    <tr>\n",
       "      <th>32128719</th>\n",
       "      <td>0.0</td>\n",
       "      <td>0.0</td>\n",
       "      <td>2.0</td>\n",
       "      <td>0.0</td>\n",
       "      <td>1.0</td>\n",
       "      <td>0.0</td>\n",
       "      <td>0.0</td>\n",
       "      <td>0.0</td>\n",
       "      <td>0.0</td>\n",
       "      <td>0.0</td>\n",
       "      <td>...</td>\n",
       "      <td>0.0</td>\n",
       "      <td>0.0</td>\n",
       "      <td>0.0</td>\n",
       "      <td>0.0</td>\n",
       "      <td>0.0</td>\n",
       "      <td>0.0</td>\n",
       "      <td>0.0</td>\n",
       "      <td>0.0</td>\n",
       "      <td>0.0</td>\n",
       "      <td>0.0</td>\n",
       "    </tr>\n",
       "    <tr>\n",
       "      <th>41637292</th>\n",
       "      <td>0.0</td>\n",
       "      <td>0.0</td>\n",
       "      <td>0.0</td>\n",
       "      <td>0.0</td>\n",
       "      <td>0.0</td>\n",
       "      <td>0.0</td>\n",
       "      <td>0.0</td>\n",
       "      <td>0.0</td>\n",
       "      <td>0.0</td>\n",
       "      <td>0.0</td>\n",
       "      <td>...</td>\n",
       "      <td>0.0</td>\n",
       "      <td>0.0</td>\n",
       "      <td>0.0</td>\n",
       "      <td>0.0</td>\n",
       "      <td>0.0</td>\n",
       "      <td>0.0</td>\n",
       "      <td>0.0</td>\n",
       "      <td>1.0</td>\n",
       "      <td>0.0</td>\n",
       "      <td>0.0</td>\n",
       "    </tr>\n",
       "    <tr>\n",
       "      <th>56981677</th>\n",
       "      <td>14.0</td>\n",
       "      <td>0.0</td>\n",
       "      <td>0.0</td>\n",
       "      <td>0.0</td>\n",
       "      <td>0.0</td>\n",
       "      <td>2.0</td>\n",
       "      <td>0.0</td>\n",
       "      <td>0.0</td>\n",
       "      <td>0.0</td>\n",
       "      <td>1.0</td>\n",
       "      <td>...</td>\n",
       "      <td>0.0</td>\n",
       "      <td>0.0</td>\n",
       "      <td>0.0</td>\n",
       "      <td>0.0</td>\n",
       "      <td>0.0</td>\n",
       "      <td>0.0</td>\n",
       "      <td>0.0</td>\n",
       "      <td>0.0</td>\n",
       "      <td>0.0</td>\n",
       "      <td>0.0</td>\n",
       "    </tr>\n",
       "    <tr>\n",
       "      <th>58429537</th>\n",
       "      <td>0.0</td>\n",
       "      <td>0.0</td>\n",
       "      <td>0.0</td>\n",
       "      <td>0.0</td>\n",
       "      <td>3.0</td>\n",
       "      <td>0.0</td>\n",
       "      <td>0.0</td>\n",
       "      <td>0.0</td>\n",
       "      <td>0.0</td>\n",
       "      <td>0.0</td>\n",
       "      <td>...</td>\n",
       "      <td>0.0</td>\n",
       "      <td>0.0</td>\n",
       "      <td>0.0</td>\n",
       "      <td>0.0</td>\n",
       "      <td>0.0</td>\n",
       "      <td>2.0</td>\n",
       "      <td>0.0</td>\n",
       "      <td>0.0</td>\n",
       "      <td>1.0</td>\n",
       "      <td>0.0</td>\n",
       "    </tr>\n",
       "  </tbody>\n",
       "</table>\n",
       "<p>5 rows × 123 columns</p>\n",
       "</div>"
      ],
      "text/plain": [
       "hero_id      1    2    3    4    5    6    7    8    9    10   ...  119  120  \\\n",
       "account_id                                                     ...             \n",
       "27178898     0.0  0.0  0.0  1.0  0.0  0.0  0.0  0.0  0.0  0.0  ...  0.0  0.0   \n",
       "32128719     0.0  0.0  2.0  0.0  1.0  0.0  0.0  0.0  0.0  0.0  ...  0.0  0.0   \n",
       "41637292     0.0  0.0  0.0  0.0  0.0  0.0  0.0  0.0  0.0  0.0  ...  0.0  0.0   \n",
       "56981677    14.0  0.0  0.0  0.0  0.0  2.0  0.0  0.0  0.0  1.0  ...  0.0  0.0   \n",
       "58429537     0.0  0.0  0.0  0.0  3.0  0.0  0.0  0.0  0.0  0.0  ...  0.0  0.0   \n",
       "\n",
       "hero_id     121  123  126  128  129  135  136  137  \n",
       "account_id                                          \n",
       "27178898    0.0  0.0  0.0  0.0  0.0  0.0  0.0  0.0  \n",
       "32128719    0.0  0.0  0.0  0.0  0.0  0.0  0.0  0.0  \n",
       "41637292    0.0  0.0  0.0  0.0  0.0  1.0  0.0  0.0  \n",
       "56981677    0.0  0.0  0.0  0.0  0.0  0.0  0.0  0.0  \n",
       "58429537    0.0  0.0  0.0  2.0  0.0  0.0  1.0  0.0  \n",
       "\n",
       "[5 rows x 123 columns]"
      ]
     },
     "execution_count": 46,
     "metadata": {},
     "output_type": "execute_result"
    }
   ],
   "source": [
    "interactions = create_interactions(df = df_freq, user_id = \"account_id\", item_id = 'hero_id', rating_col = 'freq')\n",
    "interactions.head()"
   ]
  },
  {
   "cell_type": "code",
   "execution_count": 106,
   "id": "c2b07ebd",
   "metadata": {},
   "outputs": [
    {
     "data": {
      "text/plain": [
       "True"
      ]
     },
     "execution_count": 106,
     "metadata": {},
     "output_type": "execute_result"
    }
   ],
   "source": [
    "r = redis.Redis(host='localhost', port=6379, db=0)\n",
    "context = pa.default_serialization_context()\n",
    "r.set(\"interactions\", context.serialize(interactions).to_buffer().to_pybytes())\n",
    "# context.deserialize(r.get(\"interactions\"))"
   ]
  },
  {
   "cell_type": "code",
   "execution_count": 107,
   "id": "80f92298",
   "metadata": {},
   "outputs": [
    {
     "name": "stderr",
     "output_type": "stream",
     "text": [
      "C:\\Users\\yasin\\AppData\\Local\\Temp\\ipykernel_15944\\4044420138.py:3: DeprecationWarning: Redis.hmset() is deprecated. Use Redis.hset() instead.\n",
      "  r.hmset('user_dict_permuted', user_dict_permuted)\n"
     ]
    },
    {
     "data": {
      "text/plain": [
       "True"
      ]
     },
     "execution_count": 107,
     "metadata": {},
     "output_type": "execute_result"
    }
   ],
   "source": [
    "user_dict = get_user_dict(interactions=interactions)\n",
    "user_dict_permuted = {str(k):str(v) for k,v in user_dict.items()}\n",
    "r.hmset('user_dict_permuted', user_dict_permuted)"
   ]
  },
  {
   "cell_type": "code",
   "execution_count": 108,
   "id": "15e6224d",
   "metadata": {
    "scrolled": true
   },
   "outputs": [
    {
     "name": "stderr",
     "output_type": "stream",
     "text": [
      "C:\\Users\\yasin\\AppData\\Local\\Temp\\ipykernel_15944\\2698393473.py:3: DeprecationWarning: Redis.hmset() is deprecated. Use Redis.hset() instead.\n",
      "  r.hmset(\"hero_dict_permuted\", hero_dict_permuted)\n"
     ]
    },
    {
     "data": {
      "text/plain": [
       "True"
      ]
     },
     "execution_count": 108,
     "metadata": {},
     "output_type": "execute_result"
    }
   ],
   "source": [
    "hero_dict = get_item_dict(df = df_hero, id_col = 'hero_id', name_col = 'hero_name')\n",
    "hero_dict_permuted = {str(k):v for k,v in hero_dict.items()}\n",
    "r.hmset(\"hero_dict_permuted\", hero_dict_permuted)"
   ]
  },
  {
   "cell_type": "code",
   "execution_count": 37,
   "id": "3124e800",
   "metadata": {},
   "outputs": [],
   "source": [
    "X = sparse.csr_matrix(interactions.values)\n",
    "train, test = lightfm.cross_validation.random_train_test_split(X, test_percentage=0.2, random_state=None)\n"
   ]
  },
  {
   "cell_type": "markdown",
   "id": "a26d244a",
   "metadata": {},
   "source": [
    "#### Model build"
   ]
  },
  {
   "cell_type": "code",
   "execution_count": 18,
   "id": "f9ee2d23",
   "metadata": {},
   "outputs": [],
   "source": [
    "model = train_LightFM(interactions = train,\n",
    "                 n_components = 30,\n",
    "                 loss = 'warp',\n",
    "                 k = 15,\n",
    "                 epoch = 30,\n",
    "                 n_jobs = 4)"
   ]
  },
  {
   "cell_type": "code",
   "execution_count": 64,
   "id": "d6954a22",
   "metadata": {},
   "outputs": [],
   "source": [
    "# save model \n",
    "with open('models/lighfm.pickle', 'wb') as file:\n",
    "    pickle.dump(model,file)"
   ]
  },
  {
   "cell_type": "markdown",
   "id": "4fb52ab2",
   "metadata": {},
   "source": [
    "#### Model results"
   ]
  },
  {
   "cell_type": "code",
   "execution_count": 19,
   "id": "b3f41fde",
   "metadata": {},
   "outputs": [
    {
     "name": "stdout",
     "output_type": "stream",
     "text": [
      "Train AUC: 0.9621279\n"
     ]
    }
   ],
   "source": [
    "train_auc = auc_score(model, train, num_threads=4).mean()\n",
    "print('Train AUC: %s' % train_auc)"
   ]
  },
  {
   "cell_type": "code",
   "execution_count": 20,
   "id": "0ec35272",
   "metadata": {},
   "outputs": [
    {
     "name": "stdout",
     "output_type": "stream",
     "text": [
      "Test AUC: 0.977266\n"
     ]
    }
   ],
   "source": [
    "test_auc = auc_score(model, test, train_interactions=train, num_threads=4).mean()\n",
    "print('Test AUC: %s' % test_auc)"
   ]
  },
  {
   "cell_type": "code",
   "execution_count": 21,
   "id": "208581b7",
   "metadata": {},
   "outputs": [
    {
     "name": "stdout",
     "output_type": "stream",
     "text": [
      "train precision@1 : 0.7530864477157593, test precision@1: 0.7914893627166748\n"
     ]
    }
   ],
   "source": [
    "train_precision = precision_at_k(model, train, k=1).mean()\n",
    "test_precision = precision_at_k(model, test, k=1, train_interactions=train).mean()\n",
    "print(f\"train precision@1 : {train_precision}, test precision@1: {test_precision}\")"
   ]
  },
  {
   "cell_type": "markdown",
   "id": "783aa4d9",
   "metadata": {},
   "source": [
    "#### Let's see some examples "
   ]
  },
  {
   "cell_type": "code",
   "execution_count": 22,
   "id": "8894d74e",
   "metadata": {},
   "outputs": [
    {
     "data": {
      "text/plain": [
       "{0: 'Io',\n",
       " 1: 'Juggernaut',\n",
       " 2: 'Axe',\n",
       " 3: 'Centaur Warrunner',\n",
       " 4: 'Necrophos',\n",
       " 5: 'Zeus',\n",
       " 6: 'Shadow Demon',\n",
       " 7: 'Phantom Assassin',\n",
       " 8: 'Viper',\n",
       " 9: 'Ancient Apparition',\n",
       " 10: 'Ogre Magi',\n",
       " 11: 'Shadow Shaman',\n",
       " 12: 'Lone Druid',\n",
       " 13: 'Terrorblade',\n",
       " 14: 'Anti-Mage',\n",
       " 15: 'Earthshaker',\n",
       " 16: 'Outworld Destroyer',\n",
       " 17: 'Magnus',\n",
       " 18: 'Alchemist',\n",
       " 19: 'Grimstroke',\n",
       " 20: 'Medusa',\n",
       " 21: 'Wraith King',\n",
       " 22: 'Invoker',\n",
       " 23: 'Queen of Pain',\n",
       " 24: 'Dark Willow',\n",
       " 25: 'Sand King',\n",
       " 26: 'Bane',\n",
       " 27: 'Dragon Knight',\n",
       " 28: 'Lycan',\n",
       " 29: 'Venomancer',\n",
       " 30: 'Sven',\n",
       " 31: 'Pugna',\n",
       " 32: 'Phantom Lancer',\n",
       " 33: 'Jakiro',\n",
       " 34: 'Abaddon',\n",
       " 35: 'Tinker',\n",
       " 36: 'Slardar',\n",
       " 37: 'Broodmother',\n",
       " 38: 'Shadow Fiend',\n",
       " 39: 'Techies',\n",
       " 40: 'Spirit Breaker',\n",
       " 41: 'Gyrocopter',\n",
       " 42: 'Monkey King',\n",
       " 43: 'Legion Commander',\n",
       " 44: 'Pangolier',\n",
       " 45: 'Huskar',\n",
       " 46: 'Treant Protector',\n",
       " 47: 'Elder Titan',\n",
       " 48: 'Chaos Knight',\n",
       " 49: \"Nature's Prophet\",\n",
       " 50: 'Clinkz',\n",
       " 51: 'Disruptor',\n",
       " 52: 'Drow Ranger',\n",
       " 53: 'Riki',\n",
       " 54: 'Witch Doctor',\n",
       " 55: 'Rubick',\n",
       " 56: 'Lifestealer',\n",
       " 57: 'Night Stalker',\n",
       " 58: 'Naga Siren',\n",
       " 59: 'Death Prophet',\n",
       " 60: 'Phoenix',\n",
       " 61: 'Windranger',\n",
       " 62: 'Dazzle',\n",
       " 63: 'Arc Warden',\n",
       " 64: 'Morphling',\n",
       " 65: 'Slark',\n",
       " 66: 'Omniknight',\n",
       " 67: 'Leshrac',\n",
       " 68: 'Faceless Void',\n",
       " 69: 'Pudge',\n",
       " 70: 'Storm Spirit',\n",
       " 71: 'Kunkka',\n",
       " 72: 'Brewmaster',\n",
       " 73: 'Timbersaw',\n",
       " 74: 'Templar Assassin',\n",
       " 75: 'Mars',\n",
       " 76: 'Bristleback',\n",
       " 77: 'Marci',\n",
       " 78: 'Oracle',\n",
       " 79: 'Troll Warlord',\n",
       " 80: 'Enchantress',\n",
       " 81: 'Enigma',\n",
       " 82: 'Weaver',\n",
       " 83: 'Razor',\n",
       " 84: 'Crystal Maiden',\n",
       " 85: 'Earth Spirit',\n",
       " 86: 'Luna',\n",
       " 87: 'Vengeful Spirit',\n",
       " 88: 'Clockwerk',\n",
       " 89: 'Chen',\n",
       " 90: 'Void Spirit',\n",
       " 91: 'Beastmaster',\n",
       " 92: 'Dawnbreaker',\n",
       " 93: 'Lina',\n",
       " 94: 'Doom',\n",
       " 95: 'Warlock',\n",
       " 96: 'Undying',\n",
       " 97: 'Dark Seer',\n",
       " 98: 'Bounty Hunter',\n",
       " 99: 'Lich',\n",
       " 100: 'Tidehunter',\n",
       " 101: 'Sniper',\n",
       " 102: 'Lion',\n",
       " 103: 'Keeper of the Light',\n",
       " 104: 'Underlord',\n",
       " 105: 'Primal Beast',\n",
       " 106: 'Visage',\n",
       " 107: 'Ursa',\n",
       " 108: 'Batrider',\n",
       " 109: 'Puck',\n",
       " 110: 'Skywrath Mage',\n",
       " 111: 'Winter Wyvern',\n",
       " 112: 'Meepo',\n",
       " 113: 'Hoodwink',\n",
       " 114: 'Spectre',\n",
       " 115: 'Bloodseeker',\n",
       " 116: 'Nyx Assassin',\n",
       " 117: 'Mirana',\n",
       " 118: 'Ember Spirit',\n",
       " 119: 'Tusk',\n",
       " 120: 'Snapfire',\n",
       " 121: 'Tiny',\n",
       " 122: 'Silencer'}"
      ]
     },
     "execution_count": 22,
     "metadata": {},
     "output_type": "execute_result"
    }
   ],
   "source": [
    "hero_dict"
   ]
  },
  {
   "cell_type": "code",
   "execution_count": 62,
   "id": "9340676c",
   "metadata": {},
   "outputs": [
    {
     "name": "stdout",
     "output_type": "stream",
     "text": [
      "Previoulsy played:\n",
      "1:Oracle\n",
      "2:Phoenix\n",
      "3:Underlord\n",
      "4:Abaddon\n",
      "5:Io\n",
      "6:Ancient Apparition\n",
      "7:Clockwerk\n",
      "8:Warlock\n",
      "9:Witch Doctor\n",
      "10:Shadow Shaman\n",
      "\n",
      " Recommended heroes:\n",
      "1:Treant Protector\n",
      "2:Enchantress\n",
      "3:Vengeful Spirit\n",
      "4:Elder Titan\n",
      "5:Bane\n",
      "6:Chen\n",
      "7:Mirana\n",
      "8:Dazzle\n",
      "9:Disruptor\n",
      "10:Grimstroke\n"
     ]
    },
    {
     "data": {
      "text/plain": [
       "[{'hero_id': 83, 'name': 'Treant Protector'},\n",
       " {'hero_id': 58, 'name': 'Enchantress'},\n",
       " {'hero_id': 20, 'name': 'Vengeful Spirit'},\n",
       " {'hero_id': 103, 'name': 'Elder Titan'},\n",
       " {'hero_id': 3, 'name': 'Bane'},\n",
       " {'hero_id': 66, 'name': 'Chen'},\n",
       " {'hero_id': 9, 'name': 'Mirana'},\n",
       " {'hero_id': 50, 'name': 'Dazzle'},\n",
       " {'hero_id': 87, 'name': 'Disruptor'},\n",
       " {'hero_id': 121, 'name': 'Grimstroke'}]"
      ]
     },
     "execution_count": 62,
     "metadata": {},
     "output_type": "execute_result"
    }
   ],
   "source": [
    "rec_list = recommend_by_user(model = model, \n",
    "                                      interactions = interactions, \n",
    "                                      user_id = 92949094, \n",
    "                                      user_dict = user_dict,\n",
    "                                      item_dict = hero_dict, \n",
    "                                      threshold = 0,\n",
    "                                      nrec_items = 10,\n",
    "                                      show = True)\n",
    "rec_list"
   ]
  },
  {
   "cell_type": "code",
   "execution_count": 61,
   "id": "f128c3bc",
   "metadata": {},
   "outputs": [
    {
     "name": "stdout",
     "output_type": "stream",
     "text": [
      "Previoulsy played:\n",
      "1:Primal Beast\n",
      "2:Dawnbreaker\n",
      "3:Mars\n",
      "4:Legion Commander\n",
      "5:Elder Titan\n",
      "6:Visage\n",
      "7:Brewmaster\n",
      "8:Doom\n",
      "9:Dark Seer\n",
      "10:Death Prophet\n",
      "11:Razor\n",
      "\n",
      " Recommended heroes:\n",
      "1:Beastmaster\n",
      "2:Broodmother\n",
      "3:Tidehunter\n",
      "4:Lycan\n",
      "5:Timbersaw\n"
     ]
    }
   ],
   "source": [
    "rec_list = recommend_by_user(model = model, \n",
    "                                      interactions = interactions, \n",
    "                                      user_id = 87012746, \n",
    "                                      user_dict = user_dict,\n",
    "                                      item_dict = hero_dict, \n",
    "                                      threshold = 0,\n",
    "                                      nrec_items = 5,\n",
    "                                      show = True)\n"
   ]
  },
  {
   "cell_type": "code",
   "execution_count": null,
   "id": "308a541b",
   "metadata": {},
   "outputs": [],
   "source": []
  }
 ],
 "metadata": {
  "kernelspec": {
   "display_name": "healint",
   "language": "python",
   "name": "healint"
  },
  "language_info": {
   "codemirror_mode": {
    "name": "ipython",
    "version": 3
   },
   "file_extension": ".py",
   "mimetype": "text/x-python",
   "name": "python",
   "nbconvert_exporter": "python",
   "pygments_lexer": "ipython3",
   "version": "3.8.12"
  }
 },
 "nbformat": 4,
 "nbformat_minor": 5
}
